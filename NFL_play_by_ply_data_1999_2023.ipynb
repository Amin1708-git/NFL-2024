{
  "nbformat": 4,
  "nbformat_minor": 0,
  "metadata": {
    "colab": {
      "provenance": [],
      "authorship_tag": "ABX9TyN2ydgiLnc/iLGA9ZRbHstG",
      "include_colab_link": true
    },
    "kernelspec": {
      "name": "python3",
      "display_name": "Python 3"
    },
    "language_info": {
      "name": "python"
    }
  },
  "cells": [
    {
      "cell_type": "markdown",
      "metadata": {
        "id": "view-in-github",
        "colab_type": "text"
      },
      "source": [
        "<a href=\"https://colab.research.google.com/github/Amin1708-git/NFL-2024/blob/main/NFL_play_by_ply_data_1999_2023.ipynb\" target=\"_parent\"><img src=\"https://colab.research.google.com/assets/colab-badge.svg\" alt=\"Open In Colab\"/></a>"
      ]
    },
    {
      "cell_type": "code",
      "execution_count": null,
      "metadata": {
        "id": "ZXa7XsNt-kSu"
      },
      "outputs": [],
      "source": [
        "import pandas as pd\n",
        "\n",
        "# List of years ranging from 1999 to 2023\n",
        "years = [year for year in range(1999, 2024)]\n",
        "\n",
        "# Initialize an empty list to store DataFrames for each year\n",
        "dfs = []\n",
        "\n",
        "# Iterate over each year\n",
        "for y in years:\n",
        "    # Construct the URL for the CSV file for the current year\n",
        "    url = f'https://github.com/nflverse/nflverse-data/releases/download/pbp/play_by_play_{y}.csv'\n",
        "\n",
        "    # Read the CSV file into a pandas DataFrame\n",
        "    df = pd.read_csv(url, low_memory=False)\n",
        "\n",
        "    # Append the DataFrame to the list\n",
        "    dfs.append(df)\n",
        "\n",
        "# Concatenate all DataFrames into a single DataFrame\n",
        "merged_df = pd.concat(dfs, ignore_index=True)\n",
        "\n",
        "# Create a new DataFrame with the 'year' column\n",
        "new_column = merged_df['game_id'].str.slice(0, 4)\n",
        "new_df = pd.DataFrame({'year': new_column})\n",
        "\n",
        "# Concatenate the new DataFrame with the original DataFrame\n",
        "df = pd.concat([new_df, merged_df], axis=1)\n",
        "\n",
        "# Print the updated DataFrame\n",
        "print(df)\n"
      ]
    },
    {
      "cell_type": "markdown",
      "source": [
        "Its a good practice to clean the data as possible. we can remove the raws were play_type is na which are typically the raws which identify the beginings and the endings of the periods. also we can remove the raws where play_type == 'no_play' these raws are mostly the plays which penalty had occured."
      ],
      "metadata": {
        "id": "KkIL9SY2HtvZ"
      }
    },
    {
      "cell_type": "code",
      "source": [
        "df = df.dropna(subset=['play_type'])\n",
        "df.drop(df[df['play_type'] == 'no_play'].index, inplace=True)\n",
        "df.shape"
      ],
      "metadata": {
        "id": "Lx9sdmU_Hsbi"
      },
      "execution_count": null,
      "outputs": []
    },
    {
      "cell_type": "code",
      "source": [],
      "metadata": {
        "id": "pqZFPd-RHskZ"
      },
      "execution_count": null,
      "outputs": []
    },
    {
      "cell_type": "markdown",
      "source": [
        "you can save this DataFrame in your own laptop or drive, both are available below.\n",
        "be aware this is a lot of data 2.21GB."
      ],
      "metadata": {
        "id": "zj9jTLaFLFz9"
      }
    },
    {
      "cell_type": "code",
      "source": [
        "df.to_csv('NFL play by play data 1999-2023.csv', index=False)\n"
      ],
      "metadata": {
        "id": "FwfhMsahCMWg"
      },
      "execution_count": null,
      "outputs": []
    },
    {
      "cell_type": "code",
      "source": [
        "from google.colab import drive\n",
        "\n",
        "# Mount Google Drive\n",
        "drive.mount('/content/drive')\n",
        "\n",
        "# Specify the path where you want to save the CSV file in your Google Drive\n",
        "file_path = '/content/drive/My Drive/merged_data.csv'\n",
        "\n",
        "# Save the DataFrame as a CSV file in the specified path\n",
        "df.to_csv(file_path, index=False)\n"
      ],
      "metadata": {
        "id": "LmDR7KbbCRh8",
        "colab": {
          "base_uri": "https://localhost:8080/"
        },
        "outputId": "67327dbc-bae4-4681-89ba-93f8e79db333"
      },
      "execution_count": null,
      "outputs": [
        {
          "output_type": "stream",
          "name": "stdout",
          "text": [
            "Mounted at /content/drive\n"
          ]
        }
      ]
    }
  ]
}