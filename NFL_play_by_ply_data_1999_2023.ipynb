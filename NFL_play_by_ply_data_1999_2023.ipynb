{
  "nbformat": 4,
  "nbformat_minor": 0,
  "metadata": {
    "colab": {
      "provenance": [],
      "authorship_tag": "ABX9TyMLwOoPF1kgqmZDFcOoev+1",
      "include_colab_link": true
    },
    "kernelspec": {
      "name": "python3",
      "display_name": "Python 3"
    },
    "language_info": {
      "name": "python"
    }
  },
  "cells": [
    {
      "cell_type": "markdown",
      "metadata": {
        "id": "view-in-github",
        "colab_type": "text"
      },
      "source": [
        "<a href=\"https://colab.research.google.com/github/Amin1708-git/NFL-2024/blob/main/NFL_play_by_ply_data_1999_2023.ipynb\" target=\"_parent\"><img src=\"https://colab.research.google.com/assets/colab-badge.svg\" alt=\"Open In Colab\"/></a>"
      ]
    },
    {
      "cell_type": "markdown",
      "source": [
        "**this is a combined code which you can read the NFL play by play data from 1999 till 2023 which is the last season of the NFL when making this code.**\n",
        "**i read the data from the github of nflverse, so all the rights and appreciations goes back to the team behind these packages**"
      ],
      "metadata": {
        "id": "8g7-bs7EF2l5"
      }
    },
    {
      "cell_type": "markdown",
      "source": [
        "**in this code you can access all the 25 years data at once, clean it and use it to your desire or save it to your own enviroment or drive**\n"
      ],
      "metadata": {
        "id": "OEkXGUwFHKAL"
      }
    },
    {
      "cell_type": "markdown",
      "source": [
        "**you can also filter the overall data into the criteria that suits you, below i give examples of factoring the data into different nfl plays, such as run plays, pass plays and special team play**"
      ],
      "metadata": {
        "id": "HFMiH38AH28K"
      }
    },
    {
      "cell_type": "code",
      "execution_count": null,
      "metadata": {
        "id": "ZXa7XsNt-kSu"
      },
      "outputs": [],
      "source": [
        "import pandas as pd\n",
        "\n",
        "# List of years ranging from 1999 to 2023\n",
        "years = [year for year in range(1999, 2024)]\n",
        "\n",
        "# Initialize an empty list to store DataFrames for each year\n",
        "dfs = []\n",
        "\n",
        "# Iterate over each year\n",
        "for y in years:\n",
        "    # Construct the URL for the CSV file for the current year\n",
        "    url = f'https://github.com/nflverse/nflverse-data/releases/download/pbp/play_by_play_{y}.csv'\n",
        "\n",
        "    # Read the CSV file into a pandas DataFrame\n",
        "    df = pd.read_csv(url, low_memory=False)\n",
        "\n",
        "    # Append the DataFrame to the list\n",
        "    dfs.append(df)\n",
        "\n",
        "# Concatenate all DataFrames into a single DataFrame\n",
        "merged_df = pd.concat(dfs, ignore_index=True)\n",
        "\n",
        "# Create a new DataFrame with the 'year' column\n",
        "new_column = merged_df['game_id'].str.slice(0, 4)\n",
        "new_df = pd.DataFrame({'year': new_column})\n",
        "\n",
        "# Concatenate the new DataFrame with the original DataFrame\n",
        "df = pd.concat([new_df, merged_df], axis=1)\n",
        "\n",
        "# Print the updated DataFrame\n",
        "print(df)\n"
      ]
    },
    {
      "cell_type": "markdown",
      "source": [
        "**Its a good practice to clean the data as possible. we can remove the raws were play_type is na which are typically the raws which identify the beginings and the endings of the periods. also we can remove the raws where play_type == 'no_play' these raws are mostly the plays which penalty had occured.**"
      ],
      "metadata": {
        "id": "KkIL9SY2HtvZ"
      }
    },
    {
      "cell_type": "code",
      "source": [
        "df = df.dropna(subset=['play_type'])\n",
        "df.drop(df[df['play_type'] == 'no_play'].index, inplace=True)\n",
        "df.shape"
      ],
      "metadata": {
        "id": "Lx9sdmU_Hsbi"
      },
      "execution_count": null,
      "outputs": []
    },
    {
      "cell_type": "markdown",
      "source": [
        "**you can save this DataFrame in your colab enviroment and download to your laptop.**\n",
        "**be aware this is a lot of data 2.21GB.**"
      ],
      "metadata": {
        "id": "zj9jTLaFLFz9"
      }
    },
    {
      "cell_type": "code",
      "source": [
        "df.to_csv('NFL play by play data 1999-2023.csv', index=False)\n"
      ],
      "metadata": {
        "id": "FwfhMsahCMWg"
      },
      "execution_count": null,
      "outputs": []
    },
    {
      "cell_type": "markdown",
      "source": [
        "**You can also mount your google drive and save it there. be aware this is a lot of data 2.21GB.**"
      ],
      "metadata": {
        "id": "hBAkw8UJEowY"
      }
    },
    {
      "cell_type": "code",
      "source": [
        "from google.colab import drive\n",
        "\n",
        "# Mount Google Drive\n",
        "drive.mount('/content/drive')\n",
        "\n",
        "# Specify the path where you want to save the CSV file in your Google Drive\n",
        "file_path = '/content/drive/My Drive/merged_data.csv'\n",
        "\n",
        "# Save the DataFrame as a CSV file in the specified path\n",
        "df.to_csv(file_path, index=False)\n"
      ],
      "metadata": {
        "id": "LmDR7KbbCRh8",
        "colab": {
          "base_uri": "https://localhost:8080/"
        },
        "outputId": "67327dbc-bae4-4681-89ba-93f8e79db333"
      },
      "execution_count": null,
      "outputs": [
        {
          "output_type": "stream",
          "name": "stdout",
          "text": [
            "Mounted at /content/drive\n"
          ]
        }
      ]
    },
    {
      "cell_type": "markdown",
      "source": [
        "**If you want to factor specific play type you can do it with the below code**"
      ],
      "metadata": {
        "id": "nb8AoLKNE77h"
      }
    },
    {
      "cell_type": "markdown",
      "source": [
        "**factoring run plays**"
      ],
      "metadata": {
        "id": "b81xDgPRFPLy"
      }
    },
    {
      "cell_type": "code",
      "source": [
        "run_df = df[df['play_type'] == 'run']\n",
        "run_df.shape"
      ],
      "metadata": {
        "id": "oIa-1hprFKw0"
      },
      "execution_count": null,
      "outputs": []
    },
    {
      "cell_type": "markdown",
      "source": [
        "**factoring pass plays**"
      ],
      "metadata": {
        "id": "HtqY6WFhFUII"
      }
    },
    {
      "cell_type": "code",
      "source": [
        "pass_df = df[df['play_type'] == 'pass']\n",
        "pass_df.shape"
      ],
      "metadata": {
        "id": "tv3KqwpLFNog"
      },
      "execution_count": null,
      "outputs": []
    },
    {
      "cell_type": "markdown",
      "source": [
        "**factoring all special team plays combined**"
      ],
      "metadata": {
        "id": "tSFTa3kIFZgn"
      }
    },
    {
      "cell_type": "code",
      "source": [
        "special_df = df[~((df['play_type'] == 'pass') | (df['play_type'] == 'run'))]\n",
        "special_df.shape"
      ],
      "metadata": {
        "id": "xyG9snlGFdB_"
      },
      "execution_count": null,
      "outputs": []
    }
  ]
}